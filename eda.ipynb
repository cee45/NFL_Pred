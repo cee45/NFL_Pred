{
 "cells": [
  {
   "cell_type": "code",
   "execution_count": 711,
   "id": "52244d30",
   "metadata": {},
   "outputs": [],
   "source": [
    "import pandas as pd\n",
    "import numpy as np"
   ]
  },
  {
   "cell_type": "code",
   "execution_count": 712,
   "id": "d9fbc162",
   "metadata": {},
   "outputs": [],
   "source": [
    "from nfl_data_py import import_schedules\n",
    "from nfl_data_py import import_depth_charts\n",
    "from nfl_data_py import import_seasonal_rosters\n",
    "from nfl_data_py import import_weekly_data\n",
    "from nfl_data_py import import_weekly_rosters\n",
    "from nfl_data_py import import_injuries\n",
    "from nfl_data_py import import_officials\n",
    "from nfl_data_py import import_contracts\n",
    "from nfl_data_py import import_sc_lines\n",
    "from nfl_data_py import import_players\n",
    "from nfl_data_py import import_seasonal_rosters\n",
    "from nfl_data_py import import_seasonal_data"
   ]
  },
  {
   "cell_type": "code",
   "execution_count": 713,
   "id": "e2f09a19",
   "metadata": {},
   "outputs": [],
   "source": [
    "year = 2015"
   ]
  },
  {
   "cell_type": "code",
   "execution_count": 714,
   "id": "cede2f44",
   "metadata": {},
   "outputs": [
    {
     "name": "stdout",
     "output_type": "stream",
     "text": [
      "Downcasting floats.\n"
     ]
    }
   ],
   "source": [
    "rosters = import_seasonal_rosters([year])\n",
    "schedules = import_schedules([year])\n",
    "weekly_rosters = import_weekly_rosters([year])\n",
    "depth_charts = import_depth_charts([year])\n",
    "injuries = import_injuries([year])\n",
    "officials = import_officials([year])\n",
    "contracts = import_contracts()\n",
    "sc_lines = import_sc_lines()\n",
    "players = import_players()\n",
    "seasonal_data = import_seasonal_data([year])\n",
    "weekly_data = import_weekly_data([year])\n"
   ]
  },
  {
   "cell_type": "code",
   "execution_count": 715,
   "id": "25ad7f10",
   "metadata": {},
   "outputs": [
    {
     "data": {
      "text/plain": [
       "Index(['season', 'team', 'position', 'depth_chart_position', 'jersey_number',\n",
       "       'status', 'player_name', 'first_name', 'last_name', 'birth_date',\n",
       "       'height', 'weight', 'college', 'player_id', 'espn_id', 'sportradar_id',\n",
       "       'yahoo_id', 'rotowire_id', 'pff_id', 'pfr_id', 'fantasy_data_id',\n",
       "       'sleeper_id', 'years_exp', 'headshot_url', 'ngs_position', 'week',\n",
       "       'game_type', 'status_description_abbr', 'football_name', 'esb_id',\n",
       "       'gsis_it_id', 'smart_id', 'entry_year', 'rookie_year', 'draft_club',\n",
       "       'draft_number', 'age'],\n",
       "      dtype='object')"
      ]
     },
     "execution_count": 715,
     "metadata": {},
     "output_type": "execute_result"
    }
   ],
   "source": [
    "weekly_rosters.columns"
   ]
  },
  {
   "cell_type": "code",
   "execution_count": 716,
   "id": "ff1a38cb",
   "metadata": {},
   "outputs": [
    {
     "data": {
      "text/plain": [
       "Index(['first_name', 'last_name', 'position', 'esb_id', 'gsis_id',\n",
       "       'display_name', 'rookie_year', 'college_conference', 'current_team_id',\n",
       "       'draft_club', 'draft_number', 'draftround', 'entry_year',\n",
       "       'football_name', 'gsis_it_id', 'headshot', 'jersey_number',\n",
       "       'position_group', 'short_name', 'smart_id', 'status',\n",
       "       'status_description_abbr', 'status_short_description', 'team_abbr',\n",
       "       'uniform_number', 'height', 'weight', 'college_name',\n",
       "       'years_of_experience', 'birth_date', 'team_seq', 'suffix'],\n",
       "      dtype='object')"
      ]
     },
     "execution_count": 716,
     "metadata": {},
     "output_type": "execute_result"
    }
   ],
   "source": [
    "schedules.columns\n",
    "weekly_rosters.columns\n",
    "depth_charts.columns\n",
    "injuries.columns\n",
    "officials.columns\n",
    "seasonal_data.columns\n",
    "weekly_data.columns\n",
    "contracts.columns\n",
    "players.columns"
   ]
  },
  {
   "cell_type": "markdown",
   "id": "f22043f7",
   "metadata": {},
   "source": [
    "print(rosters.shape)\n",
    "print(schedules.shape)\n",
    "print(weekly_rosters.shape)\n",
    "print(depth_charts.shape)\n",
    "print(injuries.shape)\n",
    "print(officials.shape)\n",
    "print(seasonal_data.shape)\n",
    "print(weekly_data.shape)\n",
    "print(contracts.shape)\n",
    "print(players.shape)\n",
    "print(sc_lines.shape)"
   ]
  },
  {
   "cell_type": "code",
   "execution_count": 717,
   "id": "b8105767",
   "metadata": {},
   "outputs": [
    {
     "data": {
      "text/plain": [
       "season         int64\n",
       "week           int64\n",
       "away_team     object\n",
       "home_team     object\n",
       "game_id        int64\n",
       "side          object\n",
       "line         float64\n",
       "dtype: object"
      ]
     },
     "execution_count": 717,
     "metadata": {},
     "output_type": "execute_result"
    }
   ],
   "source": [
    "sc_lines.dtypes"
   ]
  },
  {
   "cell_type": "code",
   "execution_count": 718,
   "id": "c74f9b8a",
   "metadata": {},
   "outputs": [
    {
     "data": {
      "text/html": [
       "<div>\n",
       "<style scoped>\n",
       "    .dataframe tbody tr th:only-of-type {\n",
       "        vertical-align: middle;\n",
       "    }\n",
       "\n",
       "    .dataframe tbody tr th {\n",
       "        vertical-align: top;\n",
       "    }\n",
       "\n",
       "    .dataframe thead th {\n",
       "        text-align: right;\n",
       "    }\n",
       "</style>\n",
       "<table border=\"1\" class=\"dataframe\">\n",
       "  <thead>\n",
       "    <tr style=\"text-align: right;\">\n",
       "      <th></th>\n",
       "      <th>game_id</th>\n",
       "      <th>off_pos</th>\n",
       "      <th>official_id</th>\n",
       "      <th>name</th>\n",
       "      <th>season</th>\n",
       "    </tr>\n",
       "  </thead>\n",
       "  <tbody>\n",
       "    <tr>\n",
       "      <th>29666</th>\n",
       "      <td>2015_01_BAL_DEN</td>\n",
       "      <td>R</td>\n",
       "      <td>SterGe0r</td>\n",
       "      <td>Gene Steratore</td>\n",
       "      <td>2015</td>\n",
       "    </tr>\n",
       "    <tr>\n",
       "      <th>29667</th>\n",
       "      <td>2015_01_BAL_DEN</td>\n",
       "      <td>U</td>\n",
       "      <td>AndeBa0r</td>\n",
       "      <td>Barry Anderson</td>\n",
       "      <td>2015</td>\n",
       "    </tr>\n",
       "    <tr>\n",
       "      <th>29668</th>\n",
       "      <td>2015_01_BAL_DEN</td>\n",
       "      <td>DJ</td>\n",
       "      <td>WalkEd0r</td>\n",
       "      <td>Ed Walker</td>\n",
       "      <td>2015</td>\n",
       "    </tr>\n",
       "    <tr>\n",
       "      <th>29669</th>\n",
       "      <td>2015_01_BAL_DEN</td>\n",
       "      <td>LJ</td>\n",
       "      <td>ArthGa0r</td>\n",
       "      <td>Gary Arthur</td>\n",
       "      <td>2015</td>\n",
       "    </tr>\n",
       "    <tr>\n",
       "      <th>29670</th>\n",
       "      <td>2015_01_BAL_DEN</td>\n",
       "      <td>BJ</td>\n",
       "      <td>PagaDi0r</td>\n",
       "      <td>Dino Paganelli</td>\n",
       "      <td>2015</td>\n",
       "    </tr>\n",
       "    <tr>\n",
       "      <th>...</th>\n",
       "      <td>...</td>\n",
       "      <td>...</td>\n",
       "      <td>...</td>\n",
       "      <td>...</td>\n",
       "      <td>...</td>\n",
       "    </tr>\n",
       "    <tr>\n",
       "      <th>31547</th>\n",
       "      <td>2015_21_CAR_DEN</td>\n",
       "      <td>DJ</td>\n",
       "      <td>MackWa0r</td>\n",
       "      <td>Wayne Mackie</td>\n",
       "      <td>2015</td>\n",
       "    </tr>\n",
       "    <tr>\n",
       "      <th>31548</th>\n",
       "      <td>2015_21_CAR_DEN</td>\n",
       "      <td>LJ</td>\n",
       "      <td>BaynRu0r</td>\n",
       "      <td>Rusty Baynes</td>\n",
       "      <td>2015</td>\n",
       "    </tr>\n",
       "    <tr>\n",
       "      <th>31549</th>\n",
       "      <td>2015_21_CAR_DEN</td>\n",
       "      <td>BJ</td>\n",
       "      <td>FergKe0r</td>\n",
       "      <td>Keith Ferguson</td>\n",
       "      <td>2015</td>\n",
       "    </tr>\n",
       "    <tr>\n",
       "      <th>31550</th>\n",
       "      <td>2015_21_CAR_DEN</td>\n",
       "      <td>SJ</td>\n",
       "      <td>EdwaSc0r</td>\n",
       "      <td>Scott Edwards</td>\n",
       "      <td>2015</td>\n",
       "    </tr>\n",
       "    <tr>\n",
       "      <th>31551</th>\n",
       "      <td>2015_21_CAR_DEN</td>\n",
       "      <td>FJ</td>\n",
       "      <td>CheeBo0r</td>\n",
       "      <td>Boris Cheek</td>\n",
       "      <td>2015</td>\n",
       "    </tr>\n",
       "  </tbody>\n",
       "</table>\n",
       "<p>1886 rows × 5 columns</p>\n",
       "</div>"
      ],
      "text/plain": [
       "               game_id off_pos official_id            name  season\n",
       "29666  2015_01_BAL_DEN       R    SterGe0r  Gene Steratore    2015\n",
       "29667  2015_01_BAL_DEN       U    AndeBa0r  Barry Anderson    2015\n",
       "29668  2015_01_BAL_DEN      DJ    WalkEd0r       Ed Walker    2015\n",
       "29669  2015_01_BAL_DEN      LJ    ArthGa0r     Gary Arthur    2015\n",
       "29670  2015_01_BAL_DEN      BJ    PagaDi0r  Dino Paganelli    2015\n",
       "...                ...     ...         ...             ...     ...\n",
       "31547  2015_21_CAR_DEN      DJ    MackWa0r    Wayne Mackie    2015\n",
       "31548  2015_21_CAR_DEN      LJ    BaynRu0r    Rusty Baynes    2015\n",
       "31549  2015_21_CAR_DEN      BJ    FergKe0r  Keith Ferguson    2015\n",
       "31550  2015_21_CAR_DEN      SJ    EdwaSc0r   Scott Edwards    2015\n",
       "31551  2015_21_CAR_DEN      FJ    CheeBo0r     Boris Cheek    2015\n",
       "\n",
       "[1886 rows x 5 columns]"
      ]
     },
     "execution_count": 718,
     "metadata": {},
     "output_type": "execute_result"
    }
   ],
   "source": [
    "officials"
   ]
  },
  {
   "cell_type": "code",
   "execution_count": 719,
   "id": "29e58328",
   "metadata": {},
   "outputs": [],
   "source": [
    "from sqlalchemy import create_engine\n",
    "\n",
    "username = \"postgres\"\n",
    "password = \"postgres\"\n",
    "host = \"localhost\"\n",
    "port = \"5432\"  # <-- Use the correct port here\n",
    "database = \"nfl_stats\"\n",
    "\n",
    "engine = create_engine(f\"postgresql+psycopg2://{username}:{password}@{host}:{port}/{database}\")\n"
   ]
  },
  {
   "cell_type": "code",
   "execution_count": 720,
   "id": "e99bfd77",
   "metadata": {},
   "outputs": [
    {
     "data": {
      "text/plain": [
       "886"
      ]
     },
     "execution_count": 720,
     "metadata": {},
     "output_type": "execute_result"
    }
   ],
   "source": [
    "officials.to_sql(\"nfl_officials\", con=engine, if_exists=\"append\", index=False)"
   ]
  },
  {
   "cell_type": "markdown",
   "id": "93eab85f",
   "metadata": {},
   "source": []
  }
 ],
 "metadata": {
  "kernelspec": {
   "display_name": "base",
   "language": "python",
   "name": "python3"
  },
  "language_info": {
   "codemirror_mode": {
    "name": "ipython",
    "version": 3
   },
   "file_extension": ".py",
   "mimetype": "text/x-python",
   "name": "python",
   "nbconvert_exporter": "python",
   "pygments_lexer": "ipython3",
   "version": "3.12.7"
  }
 },
 "nbformat": 4,
 "nbformat_minor": 5
}
